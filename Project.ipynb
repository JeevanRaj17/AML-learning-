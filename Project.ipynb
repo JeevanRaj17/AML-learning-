{
  "nbformat": 4,
  "nbformat_minor": 0,
  "metadata": {
    "colab": {
      "provenance": [],
      "authorship_tag": "ABX9TyNEfO6xcW8EJadekU4gv62I",
      "include_colab_link": true
    },
    "kernelspec": {
      "name": "python3",
      "display_name": "Python 3"
    },
    "language_info": {
      "name": "python"
    }
  },
  "cells": [
    {
      "cell_type": "markdown",
      "metadata": {
        "id": "view-in-github",
        "colab_type": "text"
      },
      "source": [
        "<a href=\"https://colab.research.google.com/github/JeevanRaj17/AML-learning-/blob/main/Project.ipynb\" target=\"_parent\"><img src=\"https://colab.research.google.com/assets/colab-badge.svg\" alt=\"Open In Colab\"/></a>"
      ]
    },
    {
      "cell_type": "code",
      "source": [
        "import numpy as np\n",
        "from sklearn.naive_bayes import MultinomialNB\n",
        "from sklearn.linear_model import LogisticRegression\n",
        "from sklearn.feature_extraction import DictVectorizer\n",
        "from sklearn.model_selection import train_test_split\n",
        "\n",
        "# Sample dataset\n",
        "emails = [\n",
        "    ({'kitty': 2, 'apple': 1}, 'Spam'),\n",
        "    ({'banana': 1, 'friend': 1}, 'Not Spam'),\n",
        "    ({'car': 1, 'app': 1}, 'Spam'),\n",
        "    ({'meet': 1, 'delta': 1}, 'Not Spam'),\n",
        "    ({'gama': 1, 'beta': 1}, 'Spam'),\n",
        "    ({'lemda': 1, 'theta': 1}, 'Not Spam')\n",
        "]\n",
        "\n",
        "# Split data into features (X) and labels (y)\n",
        "X = [email[0] for email in emails]\n",
        "y = [email[1] for email in emails]\n",
        "\n",
        "# Vectorize features using DictVectorizer\n",
        "vectorizer = DictVectorizer()\n",
        "X = vectorizer.fit_transform(X)\n",
        "\n",
        "# Map labels to numerical values (0 for Not Spam, 1 for Spam)\n",
        "label_map = {'Not Spam': 0, 'Spam': 1}\n",
        "y = [label_map[label] for label in y]\n",
        "\n",
        "# Split data into training and testing sets\n",
        "X_train, X_test, y_train, y_test = train_test_split(X, y, test_size=0.2, random_state=42)\n",
        "\n",
        "# Naive Bayes Classifier\n",
        "nb_clf = MultinomialNB()\n",
        "nb_clf.fit(X_train, y_train)\n",
        "nb_accuracy = nb_clf.score(X_test, y_test)\n",
        "print(\"Naive Bayes Accuracy:\", nb_accuracy)\n",
        "\n",
        "# Logistic Regression Classifier\n",
        "lr_clf = LogisticRegression(max_iter=1000)\n",
        "lr_clf.fit(X_train, y_train)\n",
        "lr_accuracy = lr_clf.score(X_test, y_test)\n",
        "print(\"Logistic Regression Accuracy:\", lr_accuracy)"
      ],
      "metadata": {
        "colab": {
          "base_uri": "https://localhost:8080/"
        },
        "id": "tX_XYlDK131V",
        "outputId": "6cda3005-a404-4083-c307-e439d98d0076"
      },
      "execution_count": 3,
      "outputs": [
        {
          "output_type": "stream",
          "name": "stdout",
          "text": [
            "Naive Bayes Accuracy: 0.5\n",
            "Logistic Regression Accuracy: 0.5\n"
          ]
        }
      ]
    }
  ]
}